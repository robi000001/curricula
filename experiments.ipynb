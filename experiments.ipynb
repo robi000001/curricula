{
 "cells": [
  {
   "cell_type": "code",
   "execution_count": 1,
   "id": "initial_id",
   "metadata": {
    "collapsed": true,
    "ExecuteTime": {
     "end_time": "2024-02-06T16:50:15.460341400Z",
     "start_time": "2024-02-06T16:50:13.670954300Z"
    }
   },
   "outputs": [],
   "source": [
    "# Read google sheet file into pandas dataframe using csv format\n",
    "# Example: https://stackoverflow.com/questions/19611729/getting-google-spreadsheet-csv-into-a-pandas-dataframe\n",
    "\n",
    "import pandas as pd\n",
    "import openpyxl\n",
    "from openpyxl.styles import Font, Alignment, Border, Side\n",
    "from openpyxl.utils import get_column_letter, column_index_from_string\n",
    "import datetime\n",
    "\n"
   ]
  },
  {
   "cell_type": "code",
   "outputs": [],
   "source": [
    "# Read data from google sheet\n",
    "curricula = pd.read_csv('https://docs.google.com/spreadsheets/d/' + \n",
    "                   '1x-wUM_eXMLmJGC289DvRmF7nFZvdAo4x9cgIArV0fg0' +\n",
    "                   '/export?gid=579824879&format=csv')\n",
    "\n",
    "programmes = pd.read_csv('https://docs.google.com/spreadsheets/d/' + \n",
    "                   '1x-wUM_eXMLmJGC289DvRmF7nFZvdAo4x9cgIArV0fg0' +\n",
    "                   '/export?gid=736085643&format=csv')\n",
    "# set index to the first column\n",
    "programmes.set_index('Unnamed: 0', inplace=True)\n",
    "\n",
    "\n"
   ],
   "metadata": {
    "collapsed": false,
    "ExecuteTime": {
     "end_time": "2024-02-06T16:50:20.933247800Z",
     "start_time": "2024-02-06T16:50:15.459344Z"
    }
   },
   "id": "904a4a1bd1431343",
   "execution_count": 2
  },
  {
   "cell_type": "code",
   "outputs": [
    {
     "data": {
      "text/plain": "'MI BSc'"
     },
     "execution_count": 3,
     "metadata": {},
     "output_type": "execute_result"
    }
   ],
   "source": [
    "# From programme data, list colum names where data is not missing and not unnamed\n",
    "prog_ids = programmes.columns[programmes.notna().any() & ~programmes.columns.str.contains('unnamed', case=False)].tolist()\n",
    "\n",
    "# Select the secont column name as target for the example\n",
    "target = prog_ids[1]\n"
   ],
   "metadata": {
    "collapsed": false,
    "ExecuteTime": {
     "end_time": "2024-02-06T16:50:20.973141Z",
     "start_time": "2024-02-06T16:50:20.846480600Z"
    }
   },
   "id": "9b04763af3c3315f",
   "execution_count": 3
  },
  {
   "cell_type": "code",
   "outputs": [],
   "source": [
    "# Filter curricula where cells in the target column contain \"KÖT\"\n",
    "curricula_kot = curricula[curricula[target].str.contains('KÖT', na=False)]\n",
    "# Keep only the folowing columns in the folowing order: 'Munkanév', 'Rövidítés', 'Kredit E', 'Kredit Gy', 'E (ó/ hét)', 'Gy (ó/ hét)', 'Előfeltétel'\n",
    "curricula_kot = curricula_kot[['Munkanév', 'Rövidítés', 'Kredit E', 'Kredit Gy', 'E (ó/ hét)', 'Gy (ó/ hét)', 'Előfeltétel']]\n"
   ],
   "metadata": {
    "collapsed": false
   },
   "id": "bf01d18eff3e00cc",
   "execution_count": null
  },
  {
   "cell_type": "code",
   "outputs": [],
   "source": [
    "# Define a function to merge cells in a row\n",
    "def merge_row(rowindex: int, columns: int, sheet):\n",
    "        sheet.merge_cells(start_row=rowindex, start_column=1, end_row=rowindex, end_column=columns)\n",
    "\n",
    "# Define a function to get semester count\n",
    "def get_semester_count(target, programmes) -> int:\n",
    "    return int(programmes.loc['Félév', target])\n",
    "\n",
    "\n",
    "# Define a function to output the header\n",
    "def header(rowindex: int, columns: int, sheet, target, programmes) -> int:\n",
    "    # Collect basic info for the target programme\n",
    "    programme_name = programmes.loc['Szak', target]\n",
    "    programme_leader = programmes.loc['Szakfelelős', target]\n",
    "    sheet['A' + str(rowindex)] = f'{programme_name}, szakfelelős: {programme_leader}'\n",
    "    merge_row(rowindex, columns, sheet)\n",
    "    sheet['A' + str(rowindex)].font = Font(bold=True)\n",
    "    \n",
    "    programme_semesters = programmes.loc['Félév', target]\n",
    "    programme_credits = programmes.loc['Összes kredit', target]\n",
    "    sheet['A' + str(rowindex + 1)] = f'{programme_semesters} félév, {programme_credits} kredit'\n",
    "    merge_row(rowindex + 1, columns, sheet)\n",
    "    \n",
    "    return rowindex+2"
   ],
   "metadata": {
    "collapsed": false,
    "ExecuteTime": {
     "end_time": "2024-02-06T16:50:20.984112500Z",
     "start_time": "2024-02-06T16:50:20.856454700Z"
    }
   },
   "id": "a0aab1515e47fa52",
   "execution_count": 6
  },
  {
   "cell_type": "code",
   "outputs": [],
   "source": [
    "# Define a function to output a semester\n",
    "def semester(rowindex: int, columns: int, sheet, semester: int, target, curricula) -> int:\n",
    "    # Output semester title\n",
    "    rowindex = rowindex + 1 # Add an empty row\n",
    "    sheet['A' + str(rowindex)] = f'{semester}. félév'\n",
    "    merge_row(rowindex, columns, sheet)\n",
    "    sheet['A' + str(rowindex)].font = Font(bold=True)\n",
    "    sheet['A' + str(rowindex)].alignment = Alignment(horizontal='center')\n",
    "    rowindex = rowindex + 1 # Add an empty row\n",
    "    \n",
    "    # Output the column headers\n",
    "    min_row = rowindex\n",
    "    headers = ['Tárgy neve', 'Tárgy kód', 'Előadás Kr.', 'Gyakorlat Kr.', 'Előadás óra', 'Gyakorlat óra', 'Előteltétel']\n",
    "    for i, header in enumerate(headers):\n",
    "        sheet[get_column_letter(i+1) + str(rowindex)] = header\n",
    "        sheet[get_column_letter(i+1) + str(rowindex)].font = Font(bold=True)\n",
    "        sheet[get_column_letter(i+1) + str(rowindex)].alignment = Alignment(wrap_text=True, horizontal='center', vertical='top')\n",
    "    rowindex = rowindex + 1 # Next row\n",
    "    \n",
    "    # Get the curricula for the semester, where the target column starts with the semester number +\"KÖT\"\n",
    "    curricula_kot = curricula[curricula[target].str.contains(f'{semester}-KÖT', na=False)]\n",
    "    # Keep only the folowing columns in the folowing order: 'Munkanév', 'Rövidítés', 'Kredit E', 'Kredit Gy', 'E (ó/ hét)', 'Gy (ó/ hét)', 'Előfeltétel'\n",
    "    curricula_kot = curricula_kot[['Munkanév', 'Rövidítés', 'Kredit E', 'Kredit Gy', 'E (ó/ hét)', 'Gy (ó/ hét)', 'Előfeltétel']]\n",
    "    \n",
    "    # Output the curricula\n",
    "    for _, row in curricula_kot.iterrows():\n",
    "        for j, value in enumerate(row):\n",
    "            sheet[get_column_letter(j+1) + str(rowindex)] = value\n",
    "            if (j == 0 or j == 6):\n",
    "                sheet[get_column_letter(j+1) + str(rowindex)].alignment = Alignment(wrap_text=True, vertical='top')\n",
    "            else:\n",
    "                sheet[get_column_letter(j+1) + str(rowindex)].alignment = Alignment(horizontal='center', vertical='top')\n",
    "        rowindex += 1\n",
    "    \n",
    "    \n",
    "\n",
    "    # Sum the credits and hours\n",
    "    for i, col in enumerate(['C', 'D', 'E', 'F']):\n",
    "        sheet[col + str(rowindex)] = f'=SUM({col}{min_row+1}:{col}{rowindex-1})'\n",
    "        sheet[col + str(rowindex)].font = Font(bold=True)\n",
    "        sheet[col + str(rowindex)].alignment = Alignment(horizontal='center')\n",
    "    \n",
    "    # Summarize the semester with number of subjects and sum of credits\n",
    "    sheet['A' + str(rowindex)] = f'=CONCATENATE(\"Összesen {curricula_kot.shape[0]} tárgy, \", SUM(C{min_row+1}:D{rowindex-1}), \" kr.\")'\n",
    "    sheet['A' + str(rowindex)].font = Font(bold=True)\n",
    "  \n",
    "    \n",
    "    # Set table borders\n",
    "    for row in sheet.iter_rows(min_row=min_row, max_row=rowindex, min_col=1, max_col=columns):\n",
    "        for cell in row:\n",
    "            cell.border = Border(left=Side(style='thin'), right=Side(style='thin'), top=Side(style='thin'), bottom=Side(style='thin'))  \n",
    "    \n",
    "    \n",
    "    return rowindex\n",
    "\n",
    "\n"
   ],
   "metadata": {
    "collapsed": false,
    "ExecuteTime": {
     "end_time": "2024-02-06T16:50:20.985110Z",
     "start_time": "2024-02-06T16:50:20.858449400Z"
    }
   },
   "id": "51a40c358fb16269",
   "execution_count": 7
  },
  {
   "cell_type": "code",
   "outputs": [],
   "source": [
    "# Function to output the curricula of a programme\n",
    "def output_curricula(target, programmes, curricula):\n",
    "    # Generate filename containing the target programme name and the current date\n",
    "    filename = f'{target}_{datetime.datetime.now().strftime(\"%Y%m%d\")}.xlsx'\n",
    "    \n",
    "    df = pd.DataFrame()\n",
    "    \n",
    "    writer = pd.ExcelWriter(filename, engine='openpyxl')\n",
    "    df.to_excel(writer, sheet_name='Tanterv', index=False)\n",
    "    workbook = writer.book\n",
    "    ws = writer.sheets['Tanterv']\n",
    "    \n",
    "    \n",
    "    workbook.calculation.on_demand = True\n",
    "    workbook.enable_calculation = True\n",
    "    \n",
    "    columns = 7\n",
    "    columnwidths = [40, 15, 10, 10, 10, 10, 20]\n",
    "    # Set table column width\n",
    "    for i, width in enumerate(columnwidths):\n",
    "        ws.column_dimensions[get_column_letter(i+1)].width = width\n",
    "    \n",
    "    rowindex = header(1, columns, ws, target, programmes)\n",
    "    \n",
    "    for i in range(1, get_semester_count(target, programmes)+1):\n",
    "        rowindex = semester(rowindex, columns, ws, i, target, curricula)+1\n",
    "    \n",
    "    # Save the workbook\n",
    "    writer.save()"
   ],
   "metadata": {
    "collapsed": false,
    "ExecuteTime": {
     "end_time": "2024-02-06T16:50:20.986107300Z",
     "start_time": "2024-02-06T16:50:20.858449400Z"
    }
   },
   "id": "e5c03d13c22016ab",
   "execution_count": 8
  },
  {
   "cell_type": "code",
   "outputs": [],
   "source": [
    "# For each programme, output the curricula\n",
    "for target in prog_ids:\n",
    "    output_curricula(target, programmes, curricula)\n"
   ],
   "metadata": {
    "collapsed": false,
    "ExecuteTime": {
     "end_time": "2024-02-06T16:50:20.987104100Z",
     "start_time": "2024-02-06T16:50:20.859446100Z"
    }
   },
   "id": "a3c7bd9e3863b7d9",
   "execution_count": 9
  }
 ],
 "metadata": {
  "kernelspec": {
   "display_name": "Python 3",
   "language": "python",
   "name": "python3"
  },
  "language_info": {
   "codemirror_mode": {
    "name": "ipython",
    "version": 2
   },
   "file_extension": ".py",
   "mimetype": "text/x-python",
   "name": "python",
   "nbconvert_exporter": "python",
   "pygments_lexer": "ipython2",
   "version": "2.7.6"
  }
 },
 "nbformat": 4,
 "nbformat_minor": 5
}
