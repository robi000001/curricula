{
 "cells": [
  {
   "cell_type": "code",
   "execution_count": 2,
   "id": "initial_id",
   "metadata": {
    "collapsed": true,
    "ExecuteTime": {
     "end_time": "2024-01-26T15:03:02.591603200Z",
     "start_time": "2024-01-26T15:03:01.867952800Z"
    }
   },
   "outputs": [
    {
     "data": {
      "text/plain": "                    Munkanév Rövidítés  Kredit E  Kredit Gy  E (ó/ hét)  \\\n0  Matematikai alapismeretek  Mat alap       1.0        3.0         1.0   \n1              Architektúrák      SzAR       2.0        NaN         2.0   \n2    Digitális architektúrák       DAR       4.0        NaN         3.0   \n3   Matematika mérnököknek I     Mat I       2.0        3.0         2.0   \n4       Fizika mérnököknek I     Fiz I       2.0        3.0         2.0   \n\n   Gy (ó/ hét)  E ott- hon (ó/ hét)  Gy ott- hon (ó/ hét)  \\\n0          2.0                  1.0                   4.0   \n1          NaN                  0.0                   NaN   \n2          NaN                  2.0                   0.0   \n3          2.0                  0.0                   4.0   \n4          3.0                  0.0                   3.0   \n\n   Vizsgai (ó/vizsgaidőszak, max 45)              E ért  ... Félév    IVR  \\\n0                                 0.0  Beszámoló, 5 fok  ...     1    NaN   \n1                                30.0             Koll.  ...     1    NaN   \n2                                45.0             Koll.  ...     1  0-évf   \n3                                30.0             Koll.  ...     1  0-évf   \n4                                30.0             Koll.  ...     1  0-évf   \n\n  GI BSc MI BSc PTI BSc Comp Science Umi BProf VM BSc  \\\n0  1-KÖT      -   1-KÖT        1-KÖT     1-KÖT      -   \n1  1-KÖT      -   1-KÖT        1-KÖT     1-KÖT      -   \n2      -  1-KÖT       -            -     1-KÖT  1-KÖT   \n3      -  1-KÖT       -            -         -  1-KÖT   \n4      -  1-KÖT       -            -         -  1-KÖT   \n\n                             Megjegyzés/ leírás/ cél  \\\n0        Emelt szintű érettségi / kiugrási lehetőség   \n1                                                NaN   \n2  Sok ETE sort fed le, ez indokolja a magas kred...   \n3  Színtén fontos szempont a felzárkoztató jelleg...   \n4  Cél: a további mérnöki tárgyak alapozása, ezen...   \n\n                                        Ismeretanyag  \n0  halmazok, relációk, függvények, logika, gráfok...  \n1                                                NaN  \n2                                                NaN  \n3                                                NaN  \n4                                                NaN  \n\n[5 rows x 22 columns]",
      "text/html": "<div>\n<style scoped>\n    .dataframe tbody tr th:only-of-type {\n        vertical-align: middle;\n    }\n\n    .dataframe tbody tr th {\n        vertical-align: top;\n    }\n\n    .dataframe thead th {\n        text-align: right;\n    }\n</style>\n<table border=\"1\" class=\"dataframe\">\n  <thead>\n    <tr style=\"text-align: right;\">\n      <th></th>\n      <th>Munkanév</th>\n      <th>Rövidítés</th>\n      <th>Kredit E</th>\n      <th>Kredit Gy</th>\n      <th>E (ó/ hét)</th>\n      <th>Gy (ó/ hét)</th>\n      <th>E ott- hon (ó/ hét)</th>\n      <th>Gy ott- hon (ó/ hét)</th>\n      <th>Vizsgai (ó/vizsgaidőszak, max 45)</th>\n      <th>E ért</th>\n      <th>...</th>\n      <th>Félév</th>\n      <th>IVR</th>\n      <th>GI BSc</th>\n      <th>MI BSc</th>\n      <th>PTI BSc</th>\n      <th>Comp Science</th>\n      <th>Umi BProf</th>\n      <th>VM BSc</th>\n      <th>Megjegyzés/ leírás/ cél</th>\n      <th>Ismeretanyag</th>\n    </tr>\n  </thead>\n  <tbody>\n    <tr>\n      <th>0</th>\n      <td>Matematikai alapismeretek</td>\n      <td>Mat alap</td>\n      <td>1.0</td>\n      <td>3.0</td>\n      <td>1.0</td>\n      <td>2.0</td>\n      <td>1.0</td>\n      <td>4.0</td>\n      <td>0.0</td>\n      <td>Beszámoló, 5 fok</td>\n      <td>...</td>\n      <td>1</td>\n      <td>NaN</td>\n      <td>1-KÖT</td>\n      <td>-</td>\n      <td>1-KÖT</td>\n      <td>1-KÖT</td>\n      <td>1-KÖT</td>\n      <td>-</td>\n      <td>Emelt szintű érettségi / kiugrási lehetőség</td>\n      <td>halmazok, relációk, függvények, logika, gráfok...</td>\n    </tr>\n    <tr>\n      <th>1</th>\n      <td>Architektúrák</td>\n      <td>SzAR</td>\n      <td>2.0</td>\n      <td>NaN</td>\n      <td>2.0</td>\n      <td>NaN</td>\n      <td>0.0</td>\n      <td>NaN</td>\n      <td>30.0</td>\n      <td>Koll.</td>\n      <td>...</td>\n      <td>1</td>\n      <td>NaN</td>\n      <td>1-KÖT</td>\n      <td>-</td>\n      <td>1-KÖT</td>\n      <td>1-KÖT</td>\n      <td>1-KÖT</td>\n      <td>-</td>\n      <td>NaN</td>\n      <td>NaN</td>\n    </tr>\n    <tr>\n      <th>2</th>\n      <td>Digitális architektúrák</td>\n      <td>DAR</td>\n      <td>4.0</td>\n      <td>NaN</td>\n      <td>3.0</td>\n      <td>NaN</td>\n      <td>2.0</td>\n      <td>0.0</td>\n      <td>45.0</td>\n      <td>Koll.</td>\n      <td>...</td>\n      <td>1</td>\n      <td>0-évf</td>\n      <td>-</td>\n      <td>1-KÖT</td>\n      <td>-</td>\n      <td>-</td>\n      <td>1-KÖT</td>\n      <td>1-KÖT</td>\n      <td>Sok ETE sort fed le, ez indokolja a magas kred...</td>\n      <td>NaN</td>\n    </tr>\n    <tr>\n      <th>3</th>\n      <td>Matematika mérnököknek I</td>\n      <td>Mat I</td>\n      <td>2.0</td>\n      <td>3.0</td>\n      <td>2.0</td>\n      <td>2.0</td>\n      <td>0.0</td>\n      <td>4.0</td>\n      <td>30.0</td>\n      <td>Koll.</td>\n      <td>...</td>\n      <td>1</td>\n      <td>0-évf</td>\n      <td>-</td>\n      <td>1-KÖT</td>\n      <td>-</td>\n      <td>-</td>\n      <td>-</td>\n      <td>1-KÖT</td>\n      <td>Színtén fontos szempont a felzárkoztató jelleg...</td>\n      <td>NaN</td>\n    </tr>\n    <tr>\n      <th>4</th>\n      <td>Fizika mérnököknek I</td>\n      <td>Fiz I</td>\n      <td>2.0</td>\n      <td>3.0</td>\n      <td>2.0</td>\n      <td>3.0</td>\n      <td>0.0</td>\n      <td>3.0</td>\n      <td>30.0</td>\n      <td>Koll.</td>\n      <td>...</td>\n      <td>1</td>\n      <td>0-évf</td>\n      <td>-</td>\n      <td>1-KÖT</td>\n      <td>-</td>\n      <td>-</td>\n      <td>-</td>\n      <td>1-KÖT</td>\n      <td>Cél: a további mérnöki tárgyak alapozása, ezen...</td>\n      <td>NaN</td>\n    </tr>\n  </tbody>\n</table>\n<p>5 rows × 22 columns</p>\n</div>"
     },
     "execution_count": 2,
     "metadata": {},
     "output_type": "execute_result"
    }
   ],
   "source": [
    "# Read google sheet file into pandas dataframe using csv format\n",
    "# Example: https://stackoverflow.com/questions/19611729/getting-google-spreadsheet-csv-into-a-pandas-dataframe\n",
    "\n",
    "import pandas as pd\n",
    "\n",
    "test = pd.read_csv('https://docs.google.com/spreadsheets/d/' + \n",
    "                   '1x-wUM_eXMLmJGC289DvRmF7nFZvdAo4x9cgIArV0fg0' +\n",
    "                   '/export?gid=579824879&format=csv'                  )\n",
    "test.head(5) "
   ]
  },
  {
   "cell_type": "code",
   "outputs": [],
   "source": [],
   "metadata": {
    "collapsed": false
   },
   "id": "904a4a1bd1431343"
  }
 ],
 "metadata": {
  "kernelspec": {
   "display_name": "Python 3",
   "language": "python",
   "name": "python3"
  },
  "language_info": {
   "codemirror_mode": {
    "name": "ipython",
    "version": 2
   },
   "file_extension": ".py",
   "mimetype": "text/x-python",
   "name": "python",
   "nbconvert_exporter": "python",
   "pygments_lexer": "ipython2",
   "version": "2.7.6"
  }
 },
 "nbformat": 4,
 "nbformat_minor": 5
}
