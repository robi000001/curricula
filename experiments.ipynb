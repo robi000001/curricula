{
 "cells": [
  {
   "cell_type": "code",
   "execution_count": 34,
   "id": "initial_id",
   "metadata": {
    "collapsed": true,
    "ExecuteTime": {
     "end_time": "2024-02-03T13:01:44.600423Z",
     "start_time": "2024-02-03T13:01:44.586460600Z"
    }
   },
   "outputs": [],
   "source": [
    "# Read google sheet file into pandas dataframe using csv format\n",
    "# Example: https://stackoverflow.com/questions/19611729/getting-google-spreadsheet-csv-into-a-pandas-dataframe\n",
    "\n",
    "import pandas as pd\n",
    "import openpyxl\n",
    "from openpyxl.styles import Font, Alignment, Border, Side\n",
    "from openpyxl.utils import get_column_letter, column_index_from_string\n",
    "import datetime\n",
    "\n"
   ]
  },
  {
   "cell_type": "code",
   "outputs": [],
   "source": [
    "# Read data from google sheet\n",
    "curricula = pd.read_csv('https://docs.google.com/spreadsheets/d/' + \n",
    "                   '1x-wUM_eXMLmJGC289DvRmF7nFZvdAo4x9cgIArV0fg0' +\n",
    "                   '/export?gid=579824879&format=csv')\n",
    "\n",
    "programmes = pd.read_csv('https://docs.google.com/spreadsheets/d/' + \n",
    "                   '1x-wUM_eXMLmJGC289DvRmF7nFZvdAo4x9cgIArV0fg0' +\n",
    "                   '/export?gid=736085643&format=csv')\n",
    "# set index to the first column\n",
    "programmes.set_index('Unnamed: 0', inplace=True)\n",
    "\n",
    "\n"
   ],
   "metadata": {
    "collapsed": false,
    "ExecuteTime": {
     "end_time": "2024-02-03T12:27:26.820358800Z",
     "start_time": "2024-02-03T12:27:25.304353100Z"
    }
   },
   "id": "904a4a1bd1431343",
   "execution_count": 15
  },
  {
   "cell_type": "code",
   "outputs": [
    {
     "data": {
      "text/plain": "'MI BSc'"
     },
     "execution_count": 11,
     "metadata": {},
     "output_type": "execute_result"
    }
   ],
   "source": [
    "# From programme data, list colum names where data is not missing and not unnamed\n",
    "prog_ids = programmes.columns[programmes.notna().any() & ~programmes.columns.str.contains('unnamed', case=False)].tolist()\n",
    "\n",
    "# Select the secont column name as target for the example\n",
    "target = prog_ids[1]\n",
    "target\n"
   ],
   "metadata": {
    "collapsed": false,
    "ExecuteTime": {
     "end_time": "2024-02-03T12:09:09.061523800Z",
     "start_time": "2024-02-03T12:09:09.031604900Z"
    }
   },
   "id": "9b04763af3c3315f",
   "execution_count": 11
  },
  {
   "cell_type": "code",
   "outputs": [
    {
     "data": {
      "text/plain": "                               Munkanév  Kredit E  Kredit Gy  E (ó/ hét)  \\\n1              Matematika mérnököknek I       2.0        3.0         2.0   \n3               Digitális architektúrák       4.0        NaN         3.0   \n4                  Fizika mérnököknek I       2.0        3.0         2.0   \n5                  Operációs rendszerek       2.0        3.0         1.0   \n6                   Programozás alapjai       2.0        3.0         2.0   \n7                  Számítógép hálózatok       2.0        NaN         1.0   \n8                Digitális kompetenciák       NaN        2.0         NaN   \n14     Személyes és szociális készségek       2.0        NaN         2.0   \n19   Rendszer és hálózattelepítés blokk       2.0        3.0         2.0   \n21            Matematika mérnököknek II       2.0        3.0         2.0   \n22                Fizika mérnököknek II       2.0        3.0         2.0   \n24      Algoritmusok és adatszerkezetek       2.0        3.0         2.0   \n25        Objektumorientált programozás       2.0        3.0         2.0   \n27       Szoftverfejlesztési folyamatok       2.0        2.0         2.0   \n28                          Adatbázisok       2.0        2.0         1.0   \n29               Informatikai biztonság       2.0        NaN         2.0   \n31                Műszaki alapismeretek       NaN        3.0         NaN   \n35  A mesterséges intelligencia alapjai       2.0        2.0         2.0   \n36                    Natív programozás       2.0        3.0         2.0   \n38                       Projektmunka I       NaN        5.0         NaN   \n39                        Elektronika I       2.0        4.0         2.0   \n40                  Jelek és rendszerek       2.0        3.0         2.0   \n54               Szoftver architektúrák       2.0        3.0         2.0   \n57                    Irányítástechnika       2.0        3.0         2.0   \n58                 Mérés és adatgyűjtés       2.0        3.0         2.0   \n59                      Digitális labor       NaN        3.0         NaN   \n72                        Mikrovezérlők       2.0        4.0         2.0   \n80                  Nyelvi kompetenciák       NaN        0.0         NaN   \n81                    Szakmai gyakorlat       NaN        0.0         NaN   \n85                       Szakdolgozat I       NaN        5.0         NaN   \n86                      Szakdolgozat II       NaN       10.0         NaN   \n\n    Gy (ó/ hét)               Előfeltétel  \n1           2.0                         -  \n3           NaN                         -  \n4           3.0                         -  \n5           2.0                       NaN  \n6           2.0                       NaN  \n7           NaN                       NaN  \n8           2.0                       NaN  \n14          NaN                       NaN  \n19          2.0                 Hálózatok  \n21          2.0                    MatM I  \n22          3.0             Fiz I\\nMatM I  \n24          2.0                  Progalap  \n25          2.0              Progalap gy.  \n27          1.0                         -  \n28          1.0              Progalap gy.  \n29          NaN                         -  \n31          3.0                       DAR  \n35          1.0                      Alga  \n36          2.0                   OOP gy.  \n38          2.0   Progalap gy, Folyamatok  \n39          4.0                     Ealap  \n40          2.0  MatM II, Ealap, Progalap  \n54          2.0                   OOP gy.  \n57          2.0                     Jelek  \n58          2.0              Jelek, Ealap  \n59          3.0                Ealap\\nDAR  \n72          4.0      DAR, MALAP, Progalap  \n80          NaN                       NaN  \n81          NaN                       NaN  \n85          1.0                       NaN  \n86          1.0                       NaN  ",
      "text/html": "<div>\n<style scoped>\n    .dataframe tbody tr th:only-of-type {\n        vertical-align: middle;\n    }\n\n    .dataframe tbody tr th {\n        vertical-align: top;\n    }\n\n    .dataframe thead th {\n        text-align: right;\n    }\n</style>\n<table border=\"1\" class=\"dataframe\">\n  <thead>\n    <tr style=\"text-align: right;\">\n      <th></th>\n      <th>Munkanév</th>\n      <th>Kredit E</th>\n      <th>Kredit Gy</th>\n      <th>E (ó/ hét)</th>\n      <th>Gy (ó/ hét)</th>\n      <th>Előfeltétel</th>\n    </tr>\n  </thead>\n  <tbody>\n    <tr>\n      <th>1</th>\n      <td>Matematika mérnököknek I</td>\n      <td>2.0</td>\n      <td>3.0</td>\n      <td>2.0</td>\n      <td>2.0</td>\n      <td>-</td>\n    </tr>\n    <tr>\n      <th>3</th>\n      <td>Digitális architektúrák</td>\n      <td>4.0</td>\n      <td>NaN</td>\n      <td>3.0</td>\n      <td>NaN</td>\n      <td>-</td>\n    </tr>\n    <tr>\n      <th>4</th>\n      <td>Fizika mérnököknek I</td>\n      <td>2.0</td>\n      <td>3.0</td>\n      <td>2.0</td>\n      <td>3.0</td>\n      <td>-</td>\n    </tr>\n    <tr>\n      <th>5</th>\n      <td>Operációs rendszerek</td>\n      <td>2.0</td>\n      <td>3.0</td>\n      <td>1.0</td>\n      <td>2.0</td>\n      <td>NaN</td>\n    </tr>\n    <tr>\n      <th>6</th>\n      <td>Programozás alapjai</td>\n      <td>2.0</td>\n      <td>3.0</td>\n      <td>2.0</td>\n      <td>2.0</td>\n      <td>NaN</td>\n    </tr>\n    <tr>\n      <th>7</th>\n      <td>Számítógép hálózatok</td>\n      <td>2.0</td>\n      <td>NaN</td>\n      <td>1.0</td>\n      <td>NaN</td>\n      <td>NaN</td>\n    </tr>\n    <tr>\n      <th>8</th>\n      <td>Digitális kompetenciák</td>\n      <td>NaN</td>\n      <td>2.0</td>\n      <td>NaN</td>\n      <td>2.0</td>\n      <td>NaN</td>\n    </tr>\n    <tr>\n      <th>14</th>\n      <td>Személyes és szociális készségek</td>\n      <td>2.0</td>\n      <td>NaN</td>\n      <td>2.0</td>\n      <td>NaN</td>\n      <td>NaN</td>\n    </tr>\n    <tr>\n      <th>19</th>\n      <td>Rendszer és hálózattelepítés blokk</td>\n      <td>2.0</td>\n      <td>3.0</td>\n      <td>2.0</td>\n      <td>2.0</td>\n      <td>Hálózatok</td>\n    </tr>\n    <tr>\n      <th>21</th>\n      <td>Matematika mérnököknek II</td>\n      <td>2.0</td>\n      <td>3.0</td>\n      <td>2.0</td>\n      <td>2.0</td>\n      <td>MatM I</td>\n    </tr>\n    <tr>\n      <th>22</th>\n      <td>Fizika mérnököknek II</td>\n      <td>2.0</td>\n      <td>3.0</td>\n      <td>2.0</td>\n      <td>3.0</td>\n      <td>Fiz I\\nMatM I</td>\n    </tr>\n    <tr>\n      <th>24</th>\n      <td>Algoritmusok és adatszerkezetek</td>\n      <td>2.0</td>\n      <td>3.0</td>\n      <td>2.0</td>\n      <td>2.0</td>\n      <td>Progalap</td>\n    </tr>\n    <tr>\n      <th>25</th>\n      <td>Objektumorientált programozás</td>\n      <td>2.0</td>\n      <td>3.0</td>\n      <td>2.0</td>\n      <td>2.0</td>\n      <td>Progalap gy.</td>\n    </tr>\n    <tr>\n      <th>27</th>\n      <td>Szoftverfejlesztési folyamatok</td>\n      <td>2.0</td>\n      <td>2.0</td>\n      <td>2.0</td>\n      <td>1.0</td>\n      <td>-</td>\n    </tr>\n    <tr>\n      <th>28</th>\n      <td>Adatbázisok</td>\n      <td>2.0</td>\n      <td>2.0</td>\n      <td>1.0</td>\n      <td>1.0</td>\n      <td>Progalap gy.</td>\n    </tr>\n    <tr>\n      <th>29</th>\n      <td>Informatikai biztonság</td>\n      <td>2.0</td>\n      <td>NaN</td>\n      <td>2.0</td>\n      <td>NaN</td>\n      <td>-</td>\n    </tr>\n    <tr>\n      <th>31</th>\n      <td>Műszaki alapismeretek</td>\n      <td>NaN</td>\n      <td>3.0</td>\n      <td>NaN</td>\n      <td>3.0</td>\n      <td>DAR</td>\n    </tr>\n    <tr>\n      <th>35</th>\n      <td>A mesterséges intelligencia alapjai</td>\n      <td>2.0</td>\n      <td>2.0</td>\n      <td>2.0</td>\n      <td>1.0</td>\n      <td>Alga</td>\n    </tr>\n    <tr>\n      <th>36</th>\n      <td>Natív programozás</td>\n      <td>2.0</td>\n      <td>3.0</td>\n      <td>2.0</td>\n      <td>2.0</td>\n      <td>OOP gy.</td>\n    </tr>\n    <tr>\n      <th>38</th>\n      <td>Projektmunka I</td>\n      <td>NaN</td>\n      <td>5.0</td>\n      <td>NaN</td>\n      <td>2.0</td>\n      <td>Progalap gy, Folyamatok</td>\n    </tr>\n    <tr>\n      <th>39</th>\n      <td>Elektronika I</td>\n      <td>2.0</td>\n      <td>4.0</td>\n      <td>2.0</td>\n      <td>4.0</td>\n      <td>Ealap</td>\n    </tr>\n    <tr>\n      <th>40</th>\n      <td>Jelek és rendszerek</td>\n      <td>2.0</td>\n      <td>3.0</td>\n      <td>2.0</td>\n      <td>2.0</td>\n      <td>MatM II, Ealap, Progalap</td>\n    </tr>\n    <tr>\n      <th>54</th>\n      <td>Szoftver architektúrák</td>\n      <td>2.0</td>\n      <td>3.0</td>\n      <td>2.0</td>\n      <td>2.0</td>\n      <td>OOP gy.</td>\n    </tr>\n    <tr>\n      <th>57</th>\n      <td>Irányítástechnika</td>\n      <td>2.0</td>\n      <td>3.0</td>\n      <td>2.0</td>\n      <td>2.0</td>\n      <td>Jelek</td>\n    </tr>\n    <tr>\n      <th>58</th>\n      <td>Mérés és adatgyűjtés</td>\n      <td>2.0</td>\n      <td>3.0</td>\n      <td>2.0</td>\n      <td>2.0</td>\n      <td>Jelek, Ealap</td>\n    </tr>\n    <tr>\n      <th>59</th>\n      <td>Digitális labor</td>\n      <td>NaN</td>\n      <td>3.0</td>\n      <td>NaN</td>\n      <td>3.0</td>\n      <td>Ealap\\nDAR</td>\n    </tr>\n    <tr>\n      <th>72</th>\n      <td>Mikrovezérlők</td>\n      <td>2.0</td>\n      <td>4.0</td>\n      <td>2.0</td>\n      <td>4.0</td>\n      <td>DAR, MALAP, Progalap</td>\n    </tr>\n    <tr>\n      <th>80</th>\n      <td>Nyelvi kompetenciák</td>\n      <td>NaN</td>\n      <td>0.0</td>\n      <td>NaN</td>\n      <td>NaN</td>\n      <td>NaN</td>\n    </tr>\n    <tr>\n      <th>81</th>\n      <td>Szakmai gyakorlat</td>\n      <td>NaN</td>\n      <td>0.0</td>\n      <td>NaN</td>\n      <td>NaN</td>\n      <td>NaN</td>\n    </tr>\n    <tr>\n      <th>85</th>\n      <td>Szakdolgozat I</td>\n      <td>NaN</td>\n      <td>5.0</td>\n      <td>NaN</td>\n      <td>1.0</td>\n      <td>NaN</td>\n    </tr>\n    <tr>\n      <th>86</th>\n      <td>Szakdolgozat II</td>\n      <td>NaN</td>\n      <td>10.0</td>\n      <td>NaN</td>\n      <td>1.0</td>\n      <td>NaN</td>\n    </tr>\n  </tbody>\n</table>\n</div>"
     },
     "execution_count": 41,
     "metadata": {},
     "output_type": "execute_result"
    }
   ],
   "source": [
    "# Filter curricula where cells in the target column contain \"KÖT\"\n",
    "curricula_kot = curricula[curricula[target].str.contains('KÖT', na=False)]\n",
    "# Keep only the folowing columns in the folowing order: 'Munkanév', 'Rövidítés', 'Kredit E', 'Kredit Gy', 'E (ó/ hét)', 'Gy (ó/ hét)', 'Előfeltétel'\n",
    "curricula_kot = curricula_kot[['Munkanév', 'Rövidítés', 'Kredit E', 'Kredit Gy', 'E (ó/ hét)', 'Gy (ó/ hét)', 'Előfeltétel']]\n",
    "curricula_kot\n"
   ],
   "metadata": {
    "collapsed": false,
    "ExecuteTime": {
     "end_time": "2024-02-03T13:20:33.373612300Z",
     "start_time": "2024-02-03T13:20:33.326738300Z"
    }
   },
   "id": "bf01d18eff3e00cc",
   "execution_count": 41
  },
  {
   "cell_type": "code",
   "outputs": [
    {
     "data": {
      "text/plain": "                                             GI BSc                  MI BSc  \\\nUnnamed: 0                                                                    \nNaN                                             NaN                     NaN   \nAlapvető adatok                                 NaN                     NaN   \nSzak                       Gazdaságinformatikus BSc  Mérnökinformatikus BSc   \nSzakfelelős                       Dr. Csendes Tibor   Dr. Pletl Szilveszter   \nNaN                                             NaN                     NaN   \n...                                             ...                     ...   \nKKK minimum mat-számtud                         NaN                     NaN   \nSzükséges még mat-számtud                       NaN                     NaN   \nKötelező informatika                            NaN                     NaN   \nKKK minimum                                     NaN                     NaN   \nSzükséges még informatika                       NaN                     NaN   \n\n                                                   PTI BSc Comp Science  \\\nUnnamed: 0                                                                \nNaN                                                    NaN          NaN   \nAlapvető adatok                                        NaN          NaN   \nSzak                       Programtervező informatikus BSc          NaN   \nSzakfelelős                               Dr. Fülöp Zoltán          NaN   \nNaN                                                    NaN          NaN   \n...                                                    ...          ...   \nKKK minimum mat-számtud                                 60          NaN   \nSzükséges még mat-számtud                               26          NaN   \nKötelező informatika                                    65          NaN   \nKKK minimum                                             60          NaN   \nSzükséges még informatika                               -5          NaN   \n\n                                               Umi BProf              VM BSc  \\\nUnnamed: 0                                                                     \nNaN                                                  NaN                 NaN   \nAlapvető adatok                                      NaN                 NaN   \nSzak                       Üzemmérnök informatikus BProf  Villamosmérnök BSc   \nSzakfelelős                            Dr. Ferenc Rudolf    Dr. Gingl Zoltán   \nNaN                                                  NaN                 NaN   \n...                                                  ...                 ...   \nKKK minimum mat-számtud                              NaN                 NaN   \nSzükséges még mat-számtud                            NaN                 NaN   \nKötelező informatika                                 NaN                 NaN   \nKKK minimum                                          NaN                 NaN   \nSzükséges még informatika                            NaN                 NaN   \n\n                           Unnamed: 7  Unnamed: 8 Unnamed: 9  \nUnnamed: 0                                                    \nNaN                               NaN         NaN        NaN  \nAlapvető adatok                   NaN         NaN        NaN  \nSzak                              NaN         NaN        NaN  \nSzakfelelős                       NaN         NaN        NaN  \nNaN                               NaN         NaN        NaN  \n...                               ...         ...        ...  \nKKK minimum mat-számtud           NaN         NaN        NaN  \nSzükséges még mat-számtud         NaN         NaN        NaN  \nKötelező informatika              NaN         NaN  *-KÖT-INF  \nKKK minimum                       NaN         NaN        NaN  \nSzükséges még informatika         NaN         NaN        NaN  \n\n[66 rows x 9 columns]",
      "text/html": "<div>\n<style scoped>\n    .dataframe tbody tr th:only-of-type {\n        vertical-align: middle;\n    }\n\n    .dataframe tbody tr th {\n        vertical-align: top;\n    }\n\n    .dataframe thead th {\n        text-align: right;\n    }\n</style>\n<table border=\"1\" class=\"dataframe\">\n  <thead>\n    <tr style=\"text-align: right;\">\n      <th></th>\n      <th>GI BSc</th>\n      <th>MI BSc</th>\n      <th>PTI BSc</th>\n      <th>Comp Science</th>\n      <th>Umi BProf</th>\n      <th>VM BSc</th>\n      <th>Unnamed: 7</th>\n      <th>Unnamed: 8</th>\n      <th>Unnamed: 9</th>\n    </tr>\n    <tr>\n      <th>Unnamed: 0</th>\n      <th></th>\n      <th></th>\n      <th></th>\n      <th></th>\n      <th></th>\n      <th></th>\n      <th></th>\n      <th></th>\n      <th></th>\n    </tr>\n  </thead>\n  <tbody>\n    <tr>\n      <th>NaN</th>\n      <td>NaN</td>\n      <td>NaN</td>\n      <td>NaN</td>\n      <td>NaN</td>\n      <td>NaN</td>\n      <td>NaN</td>\n      <td>NaN</td>\n      <td>NaN</td>\n      <td>NaN</td>\n    </tr>\n    <tr>\n      <th>Alapvető adatok</th>\n      <td>NaN</td>\n      <td>NaN</td>\n      <td>NaN</td>\n      <td>NaN</td>\n      <td>NaN</td>\n      <td>NaN</td>\n      <td>NaN</td>\n      <td>NaN</td>\n      <td>NaN</td>\n    </tr>\n    <tr>\n      <th>Szak</th>\n      <td>Gazdaságinformatikus BSc</td>\n      <td>Mérnökinformatikus BSc</td>\n      <td>Programtervező informatikus BSc</td>\n      <td>NaN</td>\n      <td>Üzemmérnök informatikus BProf</td>\n      <td>Villamosmérnök BSc</td>\n      <td>NaN</td>\n      <td>NaN</td>\n      <td>NaN</td>\n    </tr>\n    <tr>\n      <th>Szakfelelős</th>\n      <td>Dr. Csendes Tibor</td>\n      <td>Dr. Pletl Szilveszter</td>\n      <td>Dr. Fülöp Zoltán</td>\n      <td>NaN</td>\n      <td>Dr. Ferenc Rudolf</td>\n      <td>Dr. Gingl Zoltán</td>\n      <td>NaN</td>\n      <td>NaN</td>\n      <td>NaN</td>\n    </tr>\n    <tr>\n      <th>NaN</th>\n      <td>NaN</td>\n      <td>NaN</td>\n      <td>NaN</td>\n      <td>NaN</td>\n      <td>NaN</td>\n      <td>NaN</td>\n      <td>NaN</td>\n      <td>NaN</td>\n      <td>NaN</td>\n    </tr>\n    <tr>\n      <th>...</th>\n      <td>...</td>\n      <td>...</td>\n      <td>...</td>\n      <td>...</td>\n      <td>...</td>\n      <td>...</td>\n      <td>...</td>\n      <td>...</td>\n      <td>...</td>\n    </tr>\n    <tr>\n      <th>KKK minimum mat-számtud</th>\n      <td>NaN</td>\n      <td>NaN</td>\n      <td>60</td>\n      <td>NaN</td>\n      <td>NaN</td>\n      <td>NaN</td>\n      <td>NaN</td>\n      <td>NaN</td>\n      <td>NaN</td>\n    </tr>\n    <tr>\n      <th>Szükséges még mat-számtud</th>\n      <td>NaN</td>\n      <td>NaN</td>\n      <td>26</td>\n      <td>NaN</td>\n      <td>NaN</td>\n      <td>NaN</td>\n      <td>NaN</td>\n      <td>NaN</td>\n      <td>NaN</td>\n    </tr>\n    <tr>\n      <th>Kötelező informatika</th>\n      <td>NaN</td>\n      <td>NaN</td>\n      <td>65</td>\n      <td>NaN</td>\n      <td>NaN</td>\n      <td>NaN</td>\n      <td>NaN</td>\n      <td>NaN</td>\n      <td>*-KÖT-INF</td>\n    </tr>\n    <tr>\n      <th>KKK minimum</th>\n      <td>NaN</td>\n      <td>NaN</td>\n      <td>60</td>\n      <td>NaN</td>\n      <td>NaN</td>\n      <td>NaN</td>\n      <td>NaN</td>\n      <td>NaN</td>\n      <td>NaN</td>\n    </tr>\n    <tr>\n      <th>Szükséges még informatika</th>\n      <td>NaN</td>\n      <td>NaN</td>\n      <td>-5</td>\n      <td>NaN</td>\n      <td>NaN</td>\n      <td>NaN</td>\n      <td>NaN</td>\n      <td>NaN</td>\n      <td>NaN</td>\n    </tr>\n  </tbody>\n</table>\n<p>66 rows × 9 columns</p>\n</div>"
     },
     "execution_count": 16,
     "metadata": {},
     "output_type": "execute_result"
    }
   ],
   "source": [
    "programmes"
   ],
   "metadata": {
    "collapsed": false,
    "ExecuteTime": {
     "end_time": "2024-02-03T12:27:32.793393100Z",
     "start_time": "2024-02-03T12:27:32.758404200Z"
    }
   },
   "id": "e8909f17cb013ed8",
   "execution_count": 16
  },
  {
   "cell_type": "code",
   "outputs": [],
   "source": [
    "# Define a function to merge cells in a row\n",
    "def merge_row(rowindex: int, columns: int, sheet):\n",
    "        sheet.merge_cells(start_row=rowindex, start_column=1, end_row=rowindex, end_column=columns)\n",
    "\n",
    "# Define a function to get semester count\n",
    "def get_semester_count(target, programmes) -> int:\n",
    "    return int(programmes.loc['Félév', target])\n",
    "\n",
    "\n",
    "# Define a function to output the header\n",
    "def header(rowindex: int, columns: int, sheet, target, programmes) -> int:\n",
    "    # Collect basic info for the target programme\n",
    "    programme_name = programmes.loc['Szak', target]\n",
    "    programme_leader = programmes.loc['Szakfelelős', target]\n",
    "    sheet['A' + str(rowindex)] = f'{programme_name}, szakfelelős: {programme_leader}'\n",
    "    merge_row(rowindex, columns, sheet)\n",
    "    sheet['A' + str(rowindex)].font = Font(bold=True)\n",
    "    \n",
    "    programme_semesters = programmes.loc['Félév', target]\n",
    "    programme_credits = programmes.loc['Összes kredit', target]\n",
    "    sheet['A' + str(rowindex + 1)] = f'{programme_semesters} félév, {programme_credits} kredit'\n",
    "    merge_row(rowindex + 1, columns, sheet)\n",
    "    \n",
    "    return rowindex+2"
   ],
   "metadata": {
    "collapsed": false,
    "ExecuteTime": {
     "end_time": "2024-02-03T15:14:12.551092500Z",
     "start_time": "2024-02-03T15:14:12.535135200Z"
    }
   },
   "id": "a0aab1515e47fa52",
   "execution_count": 57
  },
  {
   "cell_type": "code",
   "outputs": [],
   "source": [
    "# Define a function to output a semester\n",
    "def semester(rowindex: int, columns: int, sheet, semester: int, target, curricula) -> int:\n",
    "    # Output semester title\n",
    "    rowindex = rowindex + 1 # Add an empty row\n",
    "    sheet['A' + str(rowindex)] = f'{semester}. félév'\n",
    "    merge_row(rowindex, columns, sheet)\n",
    "    sheet['A' + str(rowindex)].font = Font(bold=True)\n",
    "    sheet['A' + str(rowindex)].alignment = Alignment(horizontal='center')\n",
    "    rowindex = rowindex + 1 # Add an empty row\n",
    "    \n",
    "    # Output the column headers\n",
    "    min_row = rowindex\n",
    "    headers = ['Tárgy neve', 'Tárgy kód', 'Előadás Kr.', 'Gyakorlat Kr.', 'Előadás óra', 'Gyakorlat óra', 'Előteltétel']\n",
    "    for i, header in enumerate(headers):\n",
    "        sheet[get_column_letter(i+1) + str(rowindex)] = header\n",
    "        sheet[get_column_letter(i+1) + str(rowindex)].font = Font(bold=True)\n",
    "        sheet[get_column_letter(i+1) + str(rowindex)].alignment = Alignment(wrap_text=True, horizontal='center', vertical='top')\n",
    "    rowindex = rowindex + 1 # Next row\n",
    "    \n",
    "    # Get the curricula for the semester, where the target column starts with the semester number +\"KÖT\"\n",
    "    curricula_kot = curricula[curricula[target].str.contains(f'{semester}-KÖT', na=False)]\n",
    "    # Keep only the folowing columns in the folowing order: 'Munkanév', 'Rövidítés', 'Kredit E', 'Kredit Gy', 'E (ó/ hét)', 'Gy (ó/ hét)', 'Előfeltétel'\n",
    "    curricula_kot = curricula_kot[['Munkanév', 'Rövidítés', 'Kredit E', 'Kredit Gy', 'E (ó/ hét)', 'Gy (ó/ hét)', 'Előfeltétel']]\n",
    "    \n",
    "    # Output the curricula\n",
    "    for _, row in curricula_kot.iterrows():\n",
    "        for j, value in enumerate(row):\n",
    "            sheet[get_column_letter(j+1) + str(rowindex)] = value\n",
    "            if (j == 0 or j == 6):\n",
    "                sheet[get_column_letter(j+1) + str(rowindex)].alignment = Alignment(wrap_text=True, vertical='top')\n",
    "            else:\n",
    "                sheet[get_column_letter(j+1) + str(rowindex)].alignment = Alignment(horizontal='center', vertical='top')\n",
    "        rowindex += 1\n",
    "    \n",
    "    \n",
    "\n",
    "    # Sum the credits and hours\n",
    "    for i, col in enumerate(['C', 'D', 'E', 'F']):\n",
    "        sheet[col + str(rowindex)] = f'=SUM({col}{min_row+1}:{col}{rowindex-1})'\n",
    "        sheet[col + str(rowindex)].font = Font(bold=True)\n",
    "        sheet[col + str(rowindex)].alignment = Alignment(horizontal='center')\n",
    "    \n",
    "    # Summarize the semester with number of subjects and sum of credits\n",
    "    sheet['A' + str(rowindex)] = f'=CONCATENATE(\"Összesen {curricula_kot.shape[0]} tárgy, \", SUM(C{min_row+1}:D{rowindex-1}), \" kr.\")'\n",
    "    sheet['A' + str(rowindex)].font = Font(bold=True)\n",
    "  \n",
    "    \n",
    "    # Set table borders\n",
    "    for row in sheet.iter_rows(min_row=min_row, max_row=rowindex, min_col=1, max_col=columns):\n",
    "        for cell in row:\n",
    "            cell.border = Border(left=Side(style='thin'), right=Side(style='thin'), top=Side(style='thin'), bottom=Side(style='thin'))  \n",
    "    \n",
    "    \n",
    "    return rowindex\n",
    "\n",
    "\n"
   ],
   "metadata": {
    "collapsed": false,
    "ExecuteTime": {
     "end_time": "2024-02-03T15:35:43.081316600Z",
     "start_time": "2024-02-03T15:35:43.056355400Z"
    }
   },
   "id": "51a40c358fb16269",
   "execution_count": 77
  },
  {
   "cell_type": "code",
   "outputs": [],
   "source": [
    "# Function to output the curricula of a programme\n",
    "def output_curricula(target, programmes, curricula):\n",
    "    # Generate filename containing the target programme name and the current date\n",
    "    filename = f'{target}_{datetime.datetime.now().strftime(\"%Y%m%d\")}.xlsx'\n",
    "    \n",
    "    df = pd.DataFrame()\n",
    "    \n",
    "    writer = pd.ExcelWriter(filename, engine='openpyxl')\n",
    "    df.to_excel(writer, sheet_name='Tanterv', index=False)\n",
    "    workbook = writer.book\n",
    "    ws = writer.sheets['Tanterv']\n",
    "    \n",
    "    \n",
    "    workbook.calculation.on_demand = True\n",
    "    workbook.enable_calculation = True\n",
    "    \n",
    "    columns = 7\n",
    "    columnwidths = [40, 15, 10, 10, 10, 10, 20]\n",
    "    # Set table column width\n",
    "    for i, width in enumerate(columnwidths):\n",
    "        ws.column_dimensions[get_column_letter(i+1)].width = width\n",
    "    \n",
    "    rowindex = header(1, columns, ws, target, programmes)\n",
    "    \n",
    "    for i in range(1, get_semester_count(target, programmes)+1):\n",
    "        rowindex = semester(rowindex, columns, ws, i, target, curricula)+1\n",
    "    \n",
    "    # Save the workbook\n",
    "    writer.save()"
   ],
   "metadata": {
    "collapsed": false,
    "ExecuteTime": {
     "end_time": "2024-02-03T15:36:04.172905200Z",
     "start_time": "2024-02-03T15:36:04.153956100Z"
    }
   },
   "id": "e5c03d13c22016ab",
   "execution_count": 79
  },
  {
   "cell_type": "code",
   "outputs": [],
   "source": [
    "# For each programme, output the curricula\n",
    "for target in prog_ids:\n",
    "    output_curricula(target, programmes, curricula)\n"
   ],
   "metadata": {
    "collapsed": false,
    "ExecuteTime": {
     "end_time": "2024-02-03T15:36:22.222353800Z",
     "start_time": "2024-02-03T15:36:20.025201Z"
    }
   },
   "id": "a3c7bd9e3863b7d9",
   "execution_count": 80
  },
  {
   "cell_type": "code",
   "outputs": [],
   "source": [],
   "metadata": {
    "collapsed": false
   },
   "id": "f6a75378a3520a8a"
  }
 ],
 "metadata": {
  "kernelspec": {
   "display_name": "Python 3",
   "language": "python",
   "name": "python3"
  },
  "language_info": {
   "codemirror_mode": {
    "name": "ipython",
    "version": 2
   },
   "file_extension": ".py",
   "mimetype": "text/x-python",
   "name": "python",
   "nbconvert_exporter": "python",
   "pygments_lexer": "ipython2",
   "version": "2.7.6"
  }
 },
 "nbformat": 4,
 "nbformat_minor": 5
}
